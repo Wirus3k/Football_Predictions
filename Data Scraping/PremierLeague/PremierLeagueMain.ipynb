{
 "cells": [
  {
   "cell_type": "markdown",
   "metadata": {},
   "source": [
    "### Season 2021-2022 "
   ]
  },
  {
   "cell_type": "markdown",
   "metadata": {},
   "source": [
    "# Import Libraries"
   ]
  },
  {
   "cell_type": "code",
   "execution_count": 89,
   "metadata": {},
   "outputs": [],
   "source": [
    "import requests\n",
    "from bs4 import BeautifulSoup\n",
    "import pandas as pd"
   ]
  },
  {
   "cell_type": "markdown",
   "metadata": {},
   "source": [
    "# Initialization site"
   ]
  },
  {
   "cell_type": "code",
   "execution_count": 90,
   "metadata": {},
   "outputs": [],
   "source": [
    "standings_url = \"https://fbref.com/en/comps/9/2021-2022/2021-2022-Premier-League-Stats\""
   ]
  },
  {
   "cell_type": "code",
   "execution_count": 91,
   "metadata": {},
   "outputs": [],
   "source": [
    "data = requests.get(standings_url)"
   ]
  },
  {
   "cell_type": "code",
   "execution_count": 92,
   "metadata": {},
   "outputs": [],
   "source": [
    "soup = BeautifulSoup(data.text)\n",
    "standings_table = soup.select('table.stats_table')[0]\n",
    "links = standings_table.find_all('a')\n",
    "links = [l.get(\"href\") for l in links]\n",
    "links = [l for l in links if '/squads/' in l]"
   ]
  },
  {
   "cell_type": "code",
   "execution_count": 93,
   "metadata": {},
   "outputs": [],
   "source": [
    "team_urls = [f\"https://fbref.com{l}\" for l in links]"
   ]
  },
  {
   "cell_type": "code",
   "execution_count": 94,
   "metadata": {},
   "outputs": [
    {
     "data": {
      "text/plain": [
       "['https://fbref.com/en/squads/b8fd03ef/2021-2022/Manchester-City-Stats',\n",
       " 'https://fbref.com/en/squads/822bd0ba/2021-2022/Liverpool-Stats',\n",
       " 'https://fbref.com/en/squads/cff3d9bb/2021-2022/Chelsea-Stats',\n",
       " 'https://fbref.com/en/squads/361ca564/2021-2022/Tottenham-Hotspur-Stats',\n",
       " 'https://fbref.com/en/squads/18bb7c10/2021-2022/Arsenal-Stats',\n",
       " 'https://fbref.com/en/squads/19538871/2021-2022/Manchester-United-Stats',\n",
       " 'https://fbref.com/en/squads/7c21e445/2021-2022/West-Ham-United-Stats',\n",
       " 'https://fbref.com/en/squads/a2d435b3/2021-2022/Leicester-City-Stats',\n",
       " 'https://fbref.com/en/squads/d07537b9/2021-2022/Brighton-and-Hove-Albion-Stats',\n",
       " 'https://fbref.com/en/squads/8cec06e1/2021-2022/Wolverhampton-Wanderers-Stats',\n",
       " 'https://fbref.com/en/squads/b2b47a98/2021-2022/Newcastle-United-Stats',\n",
       " 'https://fbref.com/en/squads/47c64c55/2021-2022/Crystal-Palace-Stats',\n",
       " 'https://fbref.com/en/squads/cd051869/2021-2022/Brentford-Stats',\n",
       " 'https://fbref.com/en/squads/8602292d/2021-2022/Aston-Villa-Stats',\n",
       " 'https://fbref.com/en/squads/33c895d4/2021-2022/Southampton-Stats',\n",
       " 'https://fbref.com/en/squads/d3fd31cc/2021-2022/Everton-Stats',\n",
       " 'https://fbref.com/en/squads/5bfb9659/2021-2022/Leeds-United-Stats',\n",
       " 'https://fbref.com/en/squads/943e8050/2021-2022/Burnley-Stats',\n",
       " 'https://fbref.com/en/squads/2abfe087/2021-2022/Watford-Stats',\n",
       " 'https://fbref.com/en/squads/1c781004/2021-2022/Norwich-City-Stats']"
      ]
     },
     "execution_count": 94,
     "metadata": {},
     "output_type": "execute_result"
    }
   ],
   "source": [
    "team_urls"
   ]
  },
  {
   "cell_type": "code",
   "execution_count": 95,
   "metadata": {},
   "outputs": [],
   "source": [
    "data = requests.get(team_urls[0])"
   ]
  },
  {
   "cell_type": "markdown",
   "metadata": {},
   "source": [
    "# First main Table Scores & Fixtures 1"
   ]
  },
  {
   "cell_type": "code",
   "execution_count": 96,
   "metadata": {},
   "outputs": [],
   "source": [
    "matches = pd.read_html(data.text, match=\"Scores & Fixtures\")[0]"
   ]
  },
  {
   "cell_type": "code",
   "execution_count": 97,
   "metadata": {},
   "outputs": [
    {
     "data": {
      "text/plain": [
       "(58, 19)"
      ]
     },
     "execution_count": 97,
     "metadata": {},
     "output_type": "execute_result"
    }
   ],
   "source": [
    "matches.shape"
   ]
  },
  {
   "cell_type": "markdown",
   "metadata": {},
   "source": [
    "# Second Table/Adding attributes to first one 2"
   ]
  },
  {
   "cell_type": "markdown",
   "metadata": {},
   "source": [
    "Table shooting need to merge attributes like:\n",
    "- date\n",
    "- Sh\n",
    "- Dist\n",
    "- FK\n",
    "- PK\n",
    "- PKatt\n",
    "\n",
    "Need to think aboud expected column"
   ]
  },
  {
   "cell_type": "code",
   "execution_count": 98,
   "metadata": {},
   "outputs": [],
   "source": [
    "soup = BeautifulSoup(data.text)\n",
    "links = soup.find_all('a')\n",
    "links = [l.get(\"href\") for l in links]\n",
    "links = [l for l in links if l and 'all_comps/shooting/' in l]"
   ]
  },
  {
   "cell_type": "code",
   "execution_count": 99,
   "metadata": {},
   "outputs": [],
   "source": [
    "data = requests.get(f\"https://fbref.com{links[0]}\")"
   ]
  },
  {
   "cell_type": "code",
   "execution_count": 100,
   "metadata": {},
   "outputs": [],
   "source": [
    "shooting = pd.read_html(data.text, match=\"Shooting\")[0]"
   ]
  },
  {
   "cell_type": "code",
   "execution_count": 101,
   "metadata": {},
   "outputs": [
    {
     "data": {
      "text/plain": [
       "(59, 26)"
      ]
     },
     "execution_count": 101,
     "metadata": {},
     "output_type": "execute_result"
    }
   ],
   "source": [
    "shooting.shape"
   ]
  },
  {
   "cell_type": "code",
   "execution_count": 102,
   "metadata": {},
   "outputs": [],
   "source": [
    "shooting.columns = shooting.columns.droplevel()"
   ]
  },
  {
   "cell_type": "code",
   "execution_count": 103,
   "metadata": {},
   "outputs": [],
   "source": [
    "team_data = matches.merge(shooting[[\"Date\", \"Sh\", \"SoT\", \"Dist\", \"FK\", \"PK\", \"PKatt\"]], on=\"Date\")"
   ]
  },
  {
   "cell_type": "code",
   "execution_count": 104,
   "metadata": {},
   "outputs": [
    {
     "data": {
      "text/plain": [
       "(58, 25)"
      ]
     },
     "execution_count": 104,
     "metadata": {},
     "output_type": "execute_result"
    }
   ],
   "source": [
    "team_data.shape"
   ]
  },
  {
   "cell_type": "markdown",
   "metadata": {},
   "source": [
    "# Third Table/Adding attributes to team_data one 3"
   ]
  },
  {
   "cell_type": "markdown",
   "metadata": {},
   "source": [
    "Table Goalkeeping need to merge attributes like:\n",
    "- date\n",
    "- SoTA\n",
    "- PKA\n",
    "- PKsv\n",
    "- PKm\n",
    "\n",
    "Need to think about expected column"
   ]
  },
  {
   "cell_type": "code",
   "execution_count": 105,
   "metadata": {},
   "outputs": [],
   "source": [
    "soup = BeautifulSoup(data.text)\n",
    "links = soup.find_all('a')\n",
    "links = [l.get(\"href\") for l in links]\n",
    "links = [l for l in links if l and 'all_comps/keeper' in l]"
   ]
  },
  {
   "cell_type": "code",
   "execution_count": 106,
   "metadata": {},
   "outputs": [],
   "source": [
    "data = requests.get(f\"https://fbref.com{links[0]}\")"
   ]
  },
  {
   "cell_type": "code",
   "execution_count": 107,
   "metadata": {},
   "outputs": [],
   "source": [
    "keeper = pd.read_html(data.text, match=\"Goalkeeping\")[0]"
   ]
  },
  {
   "cell_type": "code",
   "execution_count": 108,
   "metadata": {},
   "outputs": [
    {
     "data": {
      "text/plain": [
       "(59, 37)"
      ]
     },
     "execution_count": 108,
     "metadata": {},
     "output_type": "execute_result"
    }
   ],
   "source": [
    "keeper.shape"
   ]
  },
  {
   "cell_type": "code",
   "execution_count": 109,
   "metadata": {},
   "outputs": [],
   "source": [
    "keeper.columns = keeper.columns.droplevel()"
   ]
  },
  {
   "cell_type": "code",
   "execution_count": 110,
   "metadata": {},
   "outputs": [],
   "source": [
    "#list(keeper.columns)"
   ]
  },
  {
   "cell_type": "code",
   "execution_count": 111,
   "metadata": {},
   "outputs": [],
   "source": [
    "team_data = team_data.merge(keeper[[\"Date\", \"SoTA\", \"PKA\", \"PKsv\", \"PKm\"]], on=\"Date\")"
   ]
  },
  {
   "cell_type": "code",
   "execution_count": 112,
   "metadata": {},
   "outputs": [
    {
     "data": {
      "text/plain": [
       "(58, 29)"
      ]
     },
     "execution_count": 112,
     "metadata": {},
     "output_type": "execute_result"
    }
   ],
   "source": [
    "team_data.shape"
   ]
  },
  {
   "cell_type": "markdown",
   "metadata": {},
   "source": [
    "# Next table Passing 4"
   ]
  },
  {
   "cell_type": "markdown",
   "metadata": {},
   "source": [
    "Table Passing need to merge attributes like:\n",
    "- date\n",
    "- Cmp_Total\n",
    "- Att_Total\n",
    "- TotDist\n",
    "- PrgDist\n",
    "\n",
    "Need to think about expected column"
   ]
  },
  {
   "cell_type": "code",
   "execution_count": 113,
   "metadata": {},
   "outputs": [],
   "source": [
    "soup = BeautifulSoup(data.text)\n",
    "links = soup.find_all('a')\n",
    "links = [l.get(\"href\") for l in links]\n",
    "links = [l for l in links if l and 'all_comps/passing' in l]"
   ]
  },
  {
   "cell_type": "code",
   "execution_count": 114,
   "metadata": {},
   "outputs": [],
   "source": [
    "data = requests.get(f\"https://fbref.com{links[0]}\")"
   ]
  },
  {
   "cell_type": "code",
   "execution_count": 115,
   "metadata": {},
   "outputs": [],
   "source": [
    "passing = pd.read_html(data.text, match=\"Passing\")[0]"
   ]
  },
  {
   "cell_type": "code",
   "execution_count": 116,
   "metadata": {},
   "outputs": [
    {
     "data": {
      "text/plain": [
       "(59, 33)"
      ]
     },
     "execution_count": 116,
     "metadata": {},
     "output_type": "execute_result"
    }
   ],
   "source": [
    "passing.shape"
   ]
  },
  {
   "cell_type": "code",
   "execution_count": 117,
   "metadata": {},
   "outputs": [],
   "source": [
    "passing.columns = passing.columns.droplevel()"
   ]
  },
  {
   "cell_type": "code",
   "execution_count": 118,
   "metadata": {},
   "outputs": [
    {
     "data": {
      "text/plain": [
       "(59, 33)"
      ]
     },
     "execution_count": 118,
     "metadata": {},
     "output_type": "execute_result"
    }
   ],
   "source": [
    "passing.shape"
   ]
  },
  {
   "cell_type": "code",
   "execution_count": 119,
   "metadata": {},
   "outputs": [
    {
     "data": {
      "text/plain": [
       "Index(['Date', 'Time', 'Comp', 'Round', 'Day', 'Venue', 'Result', 'GF', 'GA',\n",
       "       'Opponent', 'Cmp', 'Att', 'Cmp%', 'TotDist', 'PrgDist', 'Cmp', 'Att',\n",
       "       'Cmp%', 'Cmp', 'Att', 'Cmp%', 'Cmp', 'Att', 'Cmp%', 'Ast', 'xAG', 'xA',\n",
       "       'KP', '1/3', 'PPA', 'CrsPA', 'Prog', 'Match Report'],\n",
       "      dtype='object')"
      ]
     },
     "execution_count": 119,
     "metadata": {},
     "output_type": "execute_result"
    }
   ],
   "source": [
    "passing.columns"
   ]
  },
  {
   "cell_type": "code",
   "execution_count": 120,
   "metadata": {},
   "outputs": [],
   "source": [
    "passing.columns.values[10] = \"Cmp_Total\"\n",
    "passing.columns.values[11] = \"Att_Total\""
   ]
  },
  {
   "cell_type": "code",
   "execution_count": 121,
   "metadata": {},
   "outputs": [
    {
     "data": {
      "text/plain": [
       "Index(['Date', 'Time', 'Comp', 'Round', 'Day', 'Venue', 'Result', 'GF', 'GA',\n",
       "       'Opponent', 'Cmp_Total', 'Att_Total', 'Cmp%', 'TotDist', 'PrgDist',\n",
       "       'Cmp', 'Att', 'Cmp%', 'Cmp', 'Att', 'Cmp%', 'Cmp', 'Att', 'Cmp%', 'Ast',\n",
       "       'xAG', 'xA', 'KP', '1/3', 'PPA', 'CrsPA', 'Prog', 'Match Report'],\n",
       "      dtype='object')"
      ]
     },
     "execution_count": 121,
     "metadata": {},
     "output_type": "execute_result"
    }
   ],
   "source": [
    "passing.columns"
   ]
  },
  {
   "cell_type": "code",
   "execution_count": 122,
   "metadata": {},
   "outputs": [],
   "source": [
    "team_data = team_data.merge(passing[[\"Date\", \"Cmp_Total\", \"Att_Total\", \"TotDist\", \"PrgDist\"]], on=\"Date\")"
   ]
  },
  {
   "cell_type": "code",
   "execution_count": 123,
   "metadata": {},
   "outputs": [
    {
     "data": {
      "text/plain": [
       "(58, 33)"
      ]
     },
     "execution_count": 123,
     "metadata": {},
     "output_type": "execute_result"
    }
   ],
   "source": [
    "team_data.shape"
   ]
  },
  {
   "cell_type": "code",
   "execution_count": 124,
   "metadata": {},
   "outputs": [
    {
     "data": {
      "text/html": [
       "<div>\n",
       "<style scoped>\n",
       "    .dataframe tbody tr th:only-of-type {\n",
       "        vertical-align: middle;\n",
       "    }\n",
       "\n",
       "    .dataframe tbody tr th {\n",
       "        vertical-align: top;\n",
       "    }\n",
       "\n",
       "    .dataframe thead th {\n",
       "        text-align: right;\n",
       "    }\n",
       "</style>\n",
       "<table border=\"1\" class=\"dataframe\">\n",
       "  <thead>\n",
       "    <tr style=\"text-align: right;\">\n",
       "      <th></th>\n",
       "      <th>Date</th>\n",
       "      <th>Time</th>\n",
       "      <th>Comp</th>\n",
       "      <th>Round</th>\n",
       "      <th>Day</th>\n",
       "      <th>Venue</th>\n",
       "      <th>Result</th>\n",
       "      <th>GF</th>\n",
       "      <th>GA</th>\n",
       "      <th>Opponent</th>\n",
       "      <th>...</th>\n",
       "      <th>PK</th>\n",
       "      <th>PKatt</th>\n",
       "      <th>SoTA</th>\n",
       "      <th>PKA</th>\n",
       "      <th>PKsv</th>\n",
       "      <th>PKm</th>\n",
       "      <th>Cmp_Total</th>\n",
       "      <th>Att_Total</th>\n",
       "      <th>TotDist</th>\n",
       "      <th>PrgDist</th>\n",
       "    </tr>\n",
       "  </thead>\n",
       "  <tbody>\n",
       "    <tr>\n",
       "      <th>0</th>\n",
       "      <td>2021-08-07</td>\n",
       "      <td>17:15</td>\n",
       "      <td>Community Shield</td>\n",
       "      <td>FA Community Shield</td>\n",
       "      <td>Sat</td>\n",
       "      <td>Neutral</td>\n",
       "      <td>L</td>\n",
       "      <td>0</td>\n",
       "      <td>1</td>\n",
       "      <td>Leicester City</td>\n",
       "      <td>...</td>\n",
       "      <td>0</td>\n",
       "      <td>0</td>\n",
       "      <td>4</td>\n",
       "      <td>1</td>\n",
       "      <td>0</td>\n",
       "      <td>0</td>\n",
       "      <td>NaN</td>\n",
       "      <td>NaN</td>\n",
       "      <td>NaN</td>\n",
       "      <td>NaN</td>\n",
       "    </tr>\n",
       "    <tr>\n",
       "      <th>1</th>\n",
       "      <td>2021-08-15</td>\n",
       "      <td>16:30</td>\n",
       "      <td>Premier League</td>\n",
       "      <td>Matchweek 1</td>\n",
       "      <td>Sun</td>\n",
       "      <td>Away</td>\n",
       "      <td>L</td>\n",
       "      <td>0</td>\n",
       "      <td>1</td>\n",
       "      <td>Tottenham</td>\n",
       "      <td>...</td>\n",
       "      <td>0</td>\n",
       "      <td>0</td>\n",
       "      <td>2</td>\n",
       "      <td>0</td>\n",
       "      <td>0</td>\n",
       "      <td>0</td>\n",
       "      <td>493.0</td>\n",
       "      <td>602.0</td>\n",
       "      <td>7528.0</td>\n",
       "      <td>2608.0</td>\n",
       "    </tr>\n",
       "    <tr>\n",
       "      <th>2</th>\n",
       "      <td>2021-08-21</td>\n",
       "      <td>15:00</td>\n",
       "      <td>Premier League</td>\n",
       "      <td>Matchweek 2</td>\n",
       "      <td>Sat</td>\n",
       "      <td>Home</td>\n",
       "      <td>W</td>\n",
       "      <td>5</td>\n",
       "      <td>0</td>\n",
       "      <td>Norwich City</td>\n",
       "      <td>...</td>\n",
       "      <td>0</td>\n",
       "      <td>0</td>\n",
       "      <td>0</td>\n",
       "      <td>0</td>\n",
       "      <td>0</td>\n",
       "      <td>0</td>\n",
       "      <td>709.0</td>\n",
       "      <td>781.0</td>\n",
       "      <td>11832.0</td>\n",
       "      <td>3037.0</td>\n",
       "    </tr>\n",
       "    <tr>\n",
       "      <th>3</th>\n",
       "      <td>2021-08-28</td>\n",
       "      <td>12:30</td>\n",
       "      <td>Premier League</td>\n",
       "      <td>Matchweek 3</td>\n",
       "      <td>Sat</td>\n",
       "      <td>Home</td>\n",
       "      <td>W</td>\n",
       "      <td>5</td>\n",
       "      <td>0</td>\n",
       "      <td>Arsenal</td>\n",
       "      <td>...</td>\n",
       "      <td>0</td>\n",
       "      <td>0</td>\n",
       "      <td>0</td>\n",
       "      <td>0</td>\n",
       "      <td>0</td>\n",
       "      <td>0</td>\n",
       "      <td>721.0</td>\n",
       "      <td>813.0</td>\n",
       "      <td>10729.0</td>\n",
       "      <td>3207.0</td>\n",
       "    </tr>\n",
       "    <tr>\n",
       "      <th>4</th>\n",
       "      <td>2021-09-11</td>\n",
       "      <td>15:00</td>\n",
       "      <td>Premier League</td>\n",
       "      <td>Matchweek 4</td>\n",
       "      <td>Sat</td>\n",
       "      <td>Away</td>\n",
       "      <td>W</td>\n",
       "      <td>1</td>\n",
       "      <td>0</td>\n",
       "      <td>Leicester City</td>\n",
       "      <td>...</td>\n",
       "      <td>0</td>\n",
       "      <td>0</td>\n",
       "      <td>1</td>\n",
       "      <td>0</td>\n",
       "      <td>0</td>\n",
       "      <td>0</td>\n",
       "      <td>535.0</td>\n",
       "      <td>618.0</td>\n",
       "      <td>9246.0</td>\n",
       "      <td>2784.0</td>\n",
       "    </tr>\n",
       "  </tbody>\n",
       "</table>\n",
       "<p>5 rows × 33 columns</p>\n",
       "</div>"
      ],
      "text/plain": [
       "         Date   Time              Comp                Round  Day    Venue  \\\n",
       "0  2021-08-07  17:15  Community Shield  FA Community Shield  Sat  Neutral   \n",
       "1  2021-08-15  16:30    Premier League          Matchweek 1  Sun     Away   \n",
       "2  2021-08-21  15:00    Premier League          Matchweek 2  Sat     Home   \n",
       "3  2021-08-28  12:30    Premier League          Matchweek 3  Sat     Home   \n",
       "4  2021-09-11  15:00    Premier League          Matchweek 4  Sat     Away   \n",
       "\n",
       "  Result GF GA        Opponent  ...  PK  PKatt  SoTA  PKA PKsv PKm Cmp_Total  \\\n",
       "0      L  0  1  Leicester City  ...   0      0     4    1    0   0       NaN   \n",
       "1      L  0  1       Tottenham  ...   0      0     2    0    0   0     493.0   \n",
       "2      W  5  0    Norwich City  ...   0      0     0    0    0   0     709.0   \n",
       "3      W  5  0         Arsenal  ...   0      0     0    0    0   0     721.0   \n",
       "4      W  1  0  Leicester City  ...   0      0     1    0    0   0     535.0   \n",
       "\n",
       "  Att_Total  TotDist  PrgDist  \n",
       "0       NaN      NaN      NaN  \n",
       "1     602.0   7528.0   2608.0  \n",
       "2     781.0  11832.0   3037.0  \n",
       "3     813.0  10729.0   3207.0  \n",
       "4     618.0   9246.0   2784.0  \n",
       "\n",
       "[5 rows x 33 columns]"
      ]
     },
     "execution_count": 124,
     "metadata": {},
     "output_type": "execute_result"
    }
   ],
   "source": [
    "team_data.head()"
   ]
  },
  {
   "cell_type": "markdown",
   "metadata": {},
   "source": [
    "# Next table Pass Types 5"
   ]
  },
  {
   "cell_type": "markdown",
   "metadata": {},
   "source": [
    "Table Passi Types to merge attributes like:\n",
    "- TI\n",
    "- CK\n",
    "\n",
    "Need to think about expected column"
   ]
  },
  {
   "cell_type": "code",
   "execution_count": 125,
   "metadata": {},
   "outputs": [],
   "source": [
    "soup = BeautifulSoup(data.text)\n",
    "links = soup.find_all('a')\n",
    "links = [l.get(\"href\") for l in links]\n",
    "links = [l for l in links if l and 'all_comps/passing_types' in l]"
   ]
  },
  {
   "cell_type": "code",
   "execution_count": 126,
   "metadata": {},
   "outputs": [],
   "source": [
    "data = requests.get(f\"https://fbref.com{links[0]}\")"
   ]
  },
  {
   "cell_type": "code",
   "execution_count": 127,
   "metadata": {},
   "outputs": [],
   "source": [
    "pass_types = pd.read_html(data.text, match=\"Pass Types\")[0]"
   ]
  },
  {
   "cell_type": "code",
   "execution_count": 128,
   "metadata": {},
   "outputs": [
    {
     "data": {
      "text/plain": [
       "(59, 26)"
      ]
     },
     "execution_count": 128,
     "metadata": {},
     "output_type": "execute_result"
    }
   ],
   "source": [
    "pass_types.shape"
   ]
  },
  {
   "cell_type": "code",
   "execution_count": 129,
   "metadata": {},
   "outputs": [],
   "source": [
    "pass_types.columns = pass_types.columns.droplevel()"
   ]
  },
  {
   "cell_type": "code",
   "execution_count": 130,
   "metadata": {},
   "outputs": [
    {
     "data": {
      "text/plain": [
       "(59, 26)"
      ]
     },
     "execution_count": 130,
     "metadata": {},
     "output_type": "execute_result"
    }
   ],
   "source": [
    "pass_types.shape"
   ]
  },
  {
   "cell_type": "code",
   "execution_count": 131,
   "metadata": {},
   "outputs": [],
   "source": [
    "team_data = team_data.merge(pass_types[[\"Date\", \"TI\", \"CK\"]], on=\"Date\")"
   ]
  },
  {
   "cell_type": "code",
   "execution_count": 132,
   "metadata": {},
   "outputs": [
    {
     "data": {
      "text/plain": [
       "(58, 35)"
      ]
     },
     "execution_count": 132,
     "metadata": {},
     "output_type": "execute_result"
    }
   ],
   "source": [
    "team_data.shape"
   ]
  },
  {
   "cell_type": "markdown",
   "metadata": {},
   "source": [
    "# Next table Goal and Shot Creation 6"
   ]
  },
  {
   "cell_type": "markdown",
   "metadata": {},
   "source": [
    "Table Goal and Shot need to merge attributes like:\n",
    "- SCA\n",
    "- GCA\n",
    "\n",
    "Need to think about expected column"
   ]
  },
  {
   "cell_type": "code",
   "execution_count": 133,
   "metadata": {},
   "outputs": [],
   "source": [
    "soup = BeautifulSoup(data.text)\n",
    "links = soup.find_all('a')\n",
    "links = [l.get(\"href\") for l in links]\n",
    "links = [l for l in links if l and 'all_comps/gca' in l]"
   ]
  },
  {
   "cell_type": "code",
   "execution_count": 134,
   "metadata": {},
   "outputs": [],
   "source": [
    "data = requests.get(f\"https://fbref.com{links[0]}\")"
   ]
  },
  {
   "cell_type": "code",
   "execution_count": 135,
   "metadata": {},
   "outputs": [],
   "source": [
    "gca = pd.read_html(data.text, match=\"Goal and Shot Creation\")[0]"
   ]
  },
  {
   "cell_type": "code",
   "execution_count": 136,
   "metadata": {},
   "outputs": [
    {
     "data": {
      "text/plain": [
       "(59, 25)"
      ]
     },
     "execution_count": 136,
     "metadata": {},
     "output_type": "execute_result"
    }
   ],
   "source": [
    "gca.shape"
   ]
  },
  {
   "cell_type": "code",
   "execution_count": 137,
   "metadata": {},
   "outputs": [],
   "source": [
    "gca.columns = gca.columns.droplevel()"
   ]
  },
  {
   "cell_type": "code",
   "execution_count": 138,
   "metadata": {},
   "outputs": [
    {
     "data": {
      "text/plain": [
       "(59, 25)"
      ]
     },
     "execution_count": 138,
     "metadata": {},
     "output_type": "execute_result"
    }
   ],
   "source": [
    "gca.shape"
   ]
  },
  {
   "cell_type": "code",
   "execution_count": 139,
   "metadata": {},
   "outputs": [],
   "source": [
    "team_data = team_data.merge(gca[[\"Date\", \"SCA\", \"GCA\"]], on=\"Date\")"
   ]
  },
  {
   "cell_type": "code",
   "execution_count": 140,
   "metadata": {},
   "outputs": [
    {
     "data": {
      "text/plain": [
       "(58, 37)"
      ]
     },
     "execution_count": 140,
     "metadata": {},
     "output_type": "execute_result"
    }
   ],
   "source": [
    "team_data.shape"
   ]
  },
  {
   "cell_type": "markdown",
   "metadata": {},
   "source": [
    "# Next table Defensive Actions 7"
   ]
  },
  {
   "cell_type": "markdown",
   "metadata": {},
   "source": [
    "Table Defensive need to merge attributes like:\n",
    "- Tkl_Defensive\n",
    "- TklW_Defensive\n",
    "- Blocks_Defensive\n",
    "\n",
    "Need to think about expected column"
   ]
  },
  {
   "cell_type": "code",
   "execution_count": 141,
   "metadata": {},
   "outputs": [],
   "source": [
    "soup = BeautifulSoup(data.text)\n",
    "links = soup.find_all('a')\n",
    "links = [l.get(\"href\") for l in links]\n",
    "links = [l for l in links if l and 'all_comps/defense' in l]"
   ]
  },
  {
   "cell_type": "code",
   "execution_count": 142,
   "metadata": {},
   "outputs": [],
   "source": [
    "data = requests.get(f\"https://fbref.com{links[0]}\")"
   ]
  },
  {
   "cell_type": "code",
   "execution_count": 143,
   "metadata": {},
   "outputs": [],
   "source": [
    "defension_actions = pd.read_html(data.text, match=\"Defensive Actions\")[0]"
   ]
  },
  {
   "cell_type": "code",
   "execution_count": 144,
   "metadata": {},
   "outputs": [
    {
     "data": {
      "text/plain": [
       "(59, 27)"
      ]
     },
     "execution_count": 144,
     "metadata": {},
     "output_type": "execute_result"
    }
   ],
   "source": [
    "defension_actions.shape"
   ]
  },
  {
   "cell_type": "code",
   "execution_count": 145,
   "metadata": {},
   "outputs": [],
   "source": [
    "defension_actions.columns = defension_actions.columns.droplevel()"
   ]
  },
  {
   "cell_type": "code",
   "execution_count": 146,
   "metadata": {},
   "outputs": [
    {
     "data": {
      "text/plain": [
       "(59, 27)"
      ]
     },
     "execution_count": 146,
     "metadata": {},
     "output_type": "execute_result"
    }
   ],
   "source": [
    "defension_actions.shape"
   ]
  },
  {
   "cell_type": "code",
   "execution_count": 147,
   "metadata": {},
   "outputs": [
    {
     "data": {
      "text/plain": [
       "Index(['Date', 'Time', 'Comp', 'Round', 'Day', 'Venue', 'Result', 'GF', 'GA',\n",
       "       'Opponent', 'Tkl', 'TklW', 'Def 3rd', 'Mid 3rd', 'Att 3rd', 'Tkl',\n",
       "       'Att', 'Tkl%', 'Past', 'Blocks', 'Sh', 'Pass', 'Int', 'Tkl+Int', 'Clr',\n",
       "       'Err', 'Match Report'],\n",
       "      dtype='object')"
      ]
     },
     "execution_count": 147,
     "metadata": {},
     "output_type": "execute_result"
    }
   ],
   "source": [
    "defension_actions.columns"
   ]
  },
  {
   "cell_type": "code",
   "execution_count": 148,
   "metadata": {},
   "outputs": [],
   "source": [
    "defension_actions.columns.values[10] = \"Tkl_Defensive\"\n",
    "defension_actions.columns.values[11] = \"TklW_Defensive\"\n",
    "defension_actions.columns.values[19] = \"Blocks_Defensive\""
   ]
  },
  {
   "cell_type": "code",
   "execution_count": 149,
   "metadata": {},
   "outputs": [
    {
     "data": {
      "text/plain": [
       "Index(['Date', 'Time', 'Comp', 'Round', 'Day', 'Venue', 'Result', 'GF', 'GA',\n",
       "       'Opponent', 'Tkl_Defensive', 'TklW_Defensive', 'Def 3rd', 'Mid 3rd',\n",
       "       'Att 3rd', 'Tkl', 'Att', 'Tkl%', 'Past', 'Blocks_Defensive', 'Sh',\n",
       "       'Pass', 'Int', 'Tkl+Int', 'Clr', 'Err', 'Match Report'],\n",
       "      dtype='object')"
      ]
     },
     "execution_count": 149,
     "metadata": {},
     "output_type": "execute_result"
    }
   ],
   "source": [
    "defension_actions.columns"
   ]
  },
  {
   "cell_type": "code",
   "execution_count": 150,
   "metadata": {},
   "outputs": [
    {
     "data": {
      "text/plain": [
       "(58, 40)"
      ]
     },
     "execution_count": 150,
     "metadata": {},
     "output_type": "execute_result"
    }
   ],
   "source": [
    "team_data = team_data.merge(defension_actions[[\"Date\", \"Tkl_Defensive\", \"TklW_Defensive\", \"Blocks_Defensive\"]], on=\"Date\")\n",
    "team_data.shape"
   ]
  },
  {
   "cell_type": "markdown",
   "metadata": {},
   "source": [
    "# Next table Possesion 8"
   ]
  },
  {
   "cell_type": "markdown",
   "metadata": {},
   "source": [
    "Table Possesion need to merge attributes like:\n",
    "- date\n",
    "- Touches\n",
    "- Def Pen\n",
    "- Def 3rd\n",
    "- Mid 3rd\n",
    "- Att 3rd\n",
    "- Dribbles_Succ\n",
    "- Dribbles_Att\n",
    "- Rec\n",
    "\n",
    "Need to think about expected column"
   ]
  },
  {
   "cell_type": "code",
   "execution_count": 151,
   "metadata": {},
   "outputs": [],
   "source": [
    "soup = BeautifulSoup(data.text)\n",
    "links = soup.find_all('a')\n",
    "links = [l.get(\"href\") for l in links]\n",
    "links = [l for l in links if l and 'all_comps/possession' in l]"
   ]
  },
  {
   "cell_type": "code",
   "execution_count": 152,
   "metadata": {},
   "outputs": [],
   "source": [
    "data = requests.get(f\"https://fbref.com{links[0]}\")"
   ]
  },
  {
   "cell_type": "code",
   "execution_count": 153,
   "metadata": {},
   "outputs": [],
   "source": [
    "possession = pd.read_html(data.text, match=\"Possession\")[0]"
   ]
  },
  {
   "cell_type": "code",
   "execution_count": 154,
   "metadata": {},
   "outputs": [
    {
     "data": {
      "text/plain": [
       "(59, 26)"
      ]
     },
     "execution_count": 154,
     "metadata": {},
     "output_type": "execute_result"
    }
   ],
   "source": [
    "possession.shape"
   ]
  },
  {
   "cell_type": "code",
   "execution_count": 155,
   "metadata": {},
   "outputs": [],
   "source": [
    "possession.columns = possession.columns.droplevel()"
   ]
  },
  {
   "cell_type": "code",
   "execution_count": 156,
   "metadata": {},
   "outputs": [
    {
     "data": {
      "text/plain": [
       "(59, 26)"
      ]
     },
     "execution_count": 156,
     "metadata": {},
     "output_type": "execute_result"
    }
   ],
   "source": [
    "possession.shape"
   ]
  },
  {
   "cell_type": "code",
   "execution_count": 157,
   "metadata": {},
   "outputs": [
    {
     "data": {
      "text/plain": [
       "Index(['Date', 'Time', 'Comp', 'Round', 'Day', 'Venue', 'Result', 'GF', 'GA',\n",
       "       'Opponent', 'Poss', 'Touches', 'Def Pen', 'Def 3rd', 'Mid 3rd',\n",
       "       'Att 3rd', 'Att Pen', 'Live', 'Succ', 'Att', 'Succ%', 'Mis', 'Dis',\n",
       "       'Rec', 'Prog', 'Match Report'],\n",
       "      dtype='object')"
      ]
     },
     "execution_count": 157,
     "metadata": {},
     "output_type": "execute_result"
    }
   ],
   "source": [
    "possession.columns"
   ]
  },
  {
   "cell_type": "code",
   "execution_count": 158,
   "metadata": {},
   "outputs": [],
   "source": [
    "possession.columns.values[18] = \"Dribbles_Succ\"\n",
    "possession.columns.values[19] = \"Dribles_Att\""
   ]
  },
  {
   "cell_type": "code",
   "execution_count": 159,
   "metadata": {},
   "outputs": [
    {
     "data": {
      "text/plain": [
       "Index(['Date', 'Time', 'Comp', 'Round', 'Day', 'Venue', 'Result', 'GF', 'GA',\n",
       "       'Opponent', 'Poss', 'Touches', 'Def Pen', 'Def 3rd', 'Mid 3rd',\n",
       "       'Att 3rd', 'Att Pen', 'Live', 'Dribbles_Succ', 'Dribles_Att', 'Succ%',\n",
       "       'Mis', 'Dis', 'Rec', 'Prog', 'Match Report'],\n",
       "      dtype='object')"
      ]
     },
     "execution_count": 159,
     "metadata": {},
     "output_type": "execute_result"
    }
   ],
   "source": [
    "possession.columns"
   ]
  },
  {
   "cell_type": "code",
   "execution_count": 160,
   "metadata": {},
   "outputs": [
    {
     "data": {
      "text/plain": [
       "(58, 48)"
      ]
     },
     "execution_count": 160,
     "metadata": {},
     "output_type": "execute_result"
    }
   ],
   "source": [
    "team_data = team_data.merge(possession[[\"Date\", \"Touches\", \"Def Pen\", \"Def 3rd\", \"Mid 3rd\", \"Att 3rd\", \"Dribbles_Succ\", \"Dribles_Att\", \"Rec\"]], on=\"Date\")\n",
    "team_data.shape"
   ]
  },
  {
   "cell_type": "markdown",
   "metadata": {},
   "source": [
    "# Next table Miscellaneous stats 9"
   ]
  },
  {
   "cell_type": "markdown",
   "metadata": {},
   "source": [
    "Table Possesion need to merge attributes like:\n",
    "- date\n",
    "- CrdY\n",
    "- CrdR\n",
    "- 2CrdY\n",
    "- Fls\n",
    "- Fld\n",
    "- Off\n",
    "- PKwon\n",
    "- PKcon\n",
    "- OG\n",
    "\n",
    "Need to think about expected column"
   ]
  },
  {
   "cell_type": "code",
   "execution_count": 161,
   "metadata": {},
   "outputs": [],
   "source": [
    "soup = BeautifulSoup(data.text)\n",
    "links = soup.find_all('a')\n",
    "links = [l.get(\"href\") for l in links]\n",
    "links = [l for l in links if l and 'all_comps/misc' in l]"
   ]
  },
  {
   "cell_type": "code",
   "execution_count": 162,
   "metadata": {},
   "outputs": [],
   "source": [
    "data = requests.get(f\"https://fbref.com{links[0]}\")"
   ]
  },
  {
   "cell_type": "code",
   "execution_count": 163,
   "metadata": {},
   "outputs": [],
   "source": [
    "msc = pd.read_html(data.text, match=\"Miscellaneous Stats\")[0]"
   ]
  },
  {
   "cell_type": "code",
   "execution_count": 164,
   "metadata": {},
   "outputs": [
    {
     "data": {
      "text/plain": [
       "(59, 27)"
      ]
     },
     "execution_count": 164,
     "metadata": {},
     "output_type": "execute_result"
    }
   ],
   "source": [
    "msc.shape"
   ]
  },
  {
   "cell_type": "code",
   "execution_count": 165,
   "metadata": {},
   "outputs": [],
   "source": [
    "msc.columns = msc.columns.droplevel()"
   ]
  },
  {
   "cell_type": "code",
   "execution_count": 166,
   "metadata": {},
   "outputs": [
    {
     "data": {
      "text/plain": [
       "(59, 27)"
      ]
     },
     "execution_count": 166,
     "metadata": {},
     "output_type": "execute_result"
    }
   ],
   "source": [
    "msc.shape"
   ]
  },
  {
   "cell_type": "code",
   "execution_count": 167,
   "metadata": {},
   "outputs": [
    {
     "data": {
      "text/plain": [
       "(58, 57)"
      ]
     },
     "execution_count": 167,
     "metadata": {},
     "output_type": "execute_result"
    }
   ],
   "source": [
    "team_data = team_data.merge(msc[[\"Date\", \"CrdY\", \"CrdR\", \"2CrdY\", \"Fls\", \"Fld\", \"Off\", \"PKwon\", \"PKcon\", \"OG\"]], on=\"Date\")\n",
    "team_data.shape"
   ]
  },
  {
   "cell_type": "markdown",
   "metadata": {},
   "source": [
    "# Convert to CSV file"
   ]
  },
  {
   "cell_type": "code",
   "execution_count": 170,
   "metadata": {},
   "outputs": [],
   "source": [
    "team_data.to_csv(\"EPL_2021.csv\", index=0)"
   ]
  },
  {
   "cell_type": "code",
   "execution_count": null,
   "metadata": {},
   "outputs": [],
   "source": []
  }
 ],
 "metadata": {
  "kernelspec": {
   "display_name": "Python 3.10.5 64-bit",
   "language": "python",
   "name": "python3"
  },
  "language_info": {
   "codemirror_mode": {
    "name": "ipython",
    "version": 3
   },
   "file_extension": ".py",
   "mimetype": "text/x-python",
   "name": "python",
   "nbconvert_exporter": "python",
   "pygments_lexer": "ipython3",
   "version": "3.10.5"
  },
  "orig_nbformat": 4,
  "vscode": {
   "interpreter": {
    "hash": "a8e24bf02aec0f83b9199d927792c84edea2fa8c2ebcffc93c1d04a213e6b55f"
   }
  }
 },
 "nbformat": 4,
 "nbformat_minor": 2
}
