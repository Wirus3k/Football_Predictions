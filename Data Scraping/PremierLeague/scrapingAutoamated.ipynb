{
 "cells": [
  {
   "cell_type": "code",
   "execution_count": 27,
   "metadata": {},
   "outputs": [],
   "source": [
    "import requests\n",
    "import pandas as pd\n",
    "from bs4 import BeautifulSoup\n"
   ]
  },
  {
   "cell_type": "code",
   "execution_count": 28,
   "metadata": {},
   "outputs": [],
   "source": [
    "years = list(range(2022, 2016, -1))\n",
    "all_matches = []"
   ]
  },
  {
   "cell_type": "code",
   "execution_count": 29,
   "metadata": {},
   "outputs": [
    {
     "data": {
      "text/plain": [
       "[2022, 2021, 2020, 2019, 2018, 2017]"
      ]
     },
     "execution_count": 29,
     "metadata": {},
     "output_type": "execute_result"
    }
   ],
   "source": [
    "years"
   ]
  },
  {
   "cell_type": "code",
   "execution_count": 30,
   "metadata": {},
   "outputs": [],
   "source": [
    "standings_url = \"https://fbref.com/en/comps/9/Premier-League-Stats\""
   ]
  },
  {
   "cell_type": "code",
   "execution_count": 31,
   "metadata": {},
   "outputs": [
    {
     "ename": "IndexError",
     "evalue": "list index out of range",
     "output_type": "error",
     "traceback": [
      "\u001b[1;31m---------------------------------------------------------------------------\u001b[0m",
      "\u001b[1;31mIndexError\u001b[0m                                Traceback (most recent call last)",
      "\u001b[1;32mc:\\Users\\pawel\\OneDrive\\Pulpit\\Football_Predictions\\Data Scraping\\PremierLeague\\scrapingAutoamated.ipynb Komórka 5\u001b[0m in \u001b[0;36m<cell line: 2>\u001b[1;34m()\u001b[0m\n\u001b[0;32m      <a href='vscode-notebook-cell:/c%3A/Users/pawel/OneDrive/Pulpit/Football_Predictions/Data%20Scraping/PremierLeague/scrapingAutoamated.ipynb#W4sZmlsZQ%3D%3D?line=3'>4</a>\u001b[0m data \u001b[39m=\u001b[39m requests\u001b[39m.\u001b[39mget(standings_url)\n\u001b[0;32m      <a href='vscode-notebook-cell:/c%3A/Users/pawel/OneDrive/Pulpit/Football_Predictions/Data%20Scraping/PremierLeague/scrapingAutoamated.ipynb#W4sZmlsZQ%3D%3D?line=4'>5</a>\u001b[0m soup \u001b[39m=\u001b[39m BeautifulSoup(data\u001b[39m.\u001b[39mtext)\n\u001b[1;32m----> <a href='vscode-notebook-cell:/c%3A/Users/pawel/OneDrive/Pulpit/Football_Predictions/Data%20Scraping/PremierLeague/scrapingAutoamated.ipynb#W4sZmlsZQ%3D%3D?line=5'>6</a>\u001b[0m standings_table \u001b[39m=\u001b[39m soup\u001b[39m.\u001b[39;49mselect(\u001b[39m'\u001b[39;49m\u001b[39mtable.stats_table\u001b[39;49m\u001b[39m'\u001b[39;49m)[\u001b[39m0\u001b[39;49m]\n\u001b[0;32m      <a href='vscode-notebook-cell:/c%3A/Users/pawel/OneDrive/Pulpit/Football_Predictions/Data%20Scraping/PremierLeague/scrapingAutoamated.ipynb#W4sZmlsZQ%3D%3D?line=6'>7</a>\u001b[0m time\u001b[39m.\u001b[39msleep(\u001b[39m1\u001b[39m)\n\u001b[0;32m      <a href='vscode-notebook-cell:/c%3A/Users/pawel/OneDrive/Pulpit/Football_Predictions/Data%20Scraping/PremierLeague/scrapingAutoamated.ipynb#W4sZmlsZQ%3D%3D?line=7'>8</a>\u001b[0m links \u001b[39m=\u001b[39m [l\u001b[39m.\u001b[39mget(\u001b[39m\"\u001b[39m\u001b[39mhref\u001b[39m\u001b[39m\"\u001b[39m) \u001b[39mfor\u001b[39;00m l \u001b[39min\u001b[39;00m standings_table\u001b[39m.\u001b[39mfind_all(\u001b[39m'\u001b[39m\u001b[39ma\u001b[39m\u001b[39m'\u001b[39m)]\n",
      "\u001b[1;31mIndexError\u001b[0m: list index out of range"
     ]
    }
   ],
   "source": [
    "import time\n",
    "for year in years:\n",
    "    time.sleep(1)\n",
    "    data = requests.get(standings_url)\n",
    "    soup = BeautifulSoup(data.text)\n",
    "    standings_table = soup.select('table.stats_table')[0]\n",
    "    time.sleep(1)\n",
    "    links = [l.get(\"href\") for l in standings_table.find_all('a')]\n",
    "    links = [l for l in links if '/squads/' in l]\n",
    "    team_urls = [f\"https://fbref.com{l}\" for l in links]\n",
    "    time.sleep(1)\n",
    "    previous_season = soup.select(\"a.prev\")[0].get(\"href\")\n",
    "    standings_url = f\"https://fbref.com{previous_season}\"\n",
    "    \n",
    "    for team_url in team_urls:\n",
    "        team_name = team_url.split(\"/\")[-1].replace(\"-Stats\", \"\").replace(\"-\", \" \")\n",
    "        data = requests.get(team_url)\n",
    "        time.sleep(1)\n",
    "        matches = pd.read_html(data.text, match=\"Scores & Fixtures\")[0]\n",
    "        \n",
    "        soup = BeautifulSoup(data.text)\n",
    "        links = [l.get(\"href\") for l in soup.find_all('a')]\n",
    "        links = [l for l in links if l and 'all_comps/shooting/' in l]\n",
    "        time.sleep(1)\n",
    "        data = requests.get(f\"https://fbref.com{links[0]}\")\n",
    "        shooting = pd.read_html(data.text, match=\"Shooting\")[0]\n",
    "        shooting.columns = shooting.columns.droplevel()\n",
    "        try:\n",
    "            team_data = matches.merge(shooting[[\"Date\", \"Sh\", \"SoT\", \"Dist\", \"FK\", \"PK\", \"PKatt\"]], on=\"Date\")\n",
    "        except ValueError:\n",
    "            continue\n",
    "        \n",
    "        \n",
    "        soup = BeautifulSoup(data.text)\n",
    "        links = [l.get(\"href\") for l in soup.find_all('a')]\n",
    "        links = [l for l in links if l and 'all_comps/keeper' in l]\n",
    "        time.sleep(1)\n",
    "        data = requests.get(f\"https://fbref.com{links[0]}\")\n",
    "        keeper = pd.read_html(data.text, match=\"Goalkeeping\")[0]\n",
    "        keeper.columns = keeper.columns.droplevel()\n",
    "        try:\n",
    "            team_data = team_data.merge(keeper[[\"Date\", \"SoTA\", \"PKA\", \"PKsv\", \"PKm\"]], on=\"Date\")\n",
    "        except ValueError:\n",
    "            continue\n",
    "\n",
    "        soup = BeautifulSoup(data.text)\n",
    "        links = [l.get(\"href\") for l in soup.find_all('a')]\n",
    "        links = [l for l in links if l and 'all_comps/passing' in l]\n",
    "        time.sleep(1)\n",
    "        data = requests.get(f\"https://fbref.com{links[0]}\")\n",
    "        passing = pd.read_html(data.text, match=\"Passing\")[0]\n",
    "        passing.columns = passing.columns.droplevel()\n",
    "        try:\n",
    "            passing.columns.values[10] = \"Cmp_Total\"\n",
    "            passing.columns.values[11] = \"Att_Total\"    \n",
    "            team_data = team_data.merge(passing[[\"Date\", \"Cmp_Total\", \"Att_Total\", \"TotDist\", \"PrgDist\"]], on=\"Date\")\n",
    "        except ValueError:\n",
    "            continue\n",
    "        \n",
    "        soup = BeautifulSoup(data.text)\n",
    "        links = [l.get(\"href\") for l in soup.find_all('a')]\n",
    "        links = [l for l in links if l and 'all_comps/passing_types' in l]      \n",
    "        time.sleep(1)    \n",
    "        data = requests.get(f\"https://fbref.com{links[0]}\")\n",
    "        pass_types = pd.read_html(data.text, match=\"Pass Types\")[0]\n",
    "        pass_types.columns = pass_types.columns.droplevel()\n",
    "        try:\n",
    "            team_data = team_data.merge(pass_types[[\"Date\", \"TI\", \"CK\"]], on=\"Date\")\n",
    "        except ValueError:\n",
    "            continue\n",
    "\n",
    "        soup = BeautifulSoup(data.text)\n",
    "        links = [l.get(\"href\") for l in soup.find_all('a')]\n",
    "        links = [l for l in links if l and 'all_comps/gca' in l]   \n",
    "        time.sleep(1)\n",
    "        data = requests.get(f\"https://fbref.com{links[0]}\")\n",
    "        gca = pd.read_html(data.text, match=\"Goal and Shot Creation\")[0] \n",
    "        gca.columns = gca.columns.droplevel()\n",
    "        try:\n",
    "            team_data = team_data.merge(gca[[\"Date\", \"SCA\", \"GCA\"]], on=\"Date\")\n",
    "        except ValueError:\n",
    "            continue\n",
    "\n",
    "        soup = BeautifulSoup(data.text)\n",
    "        links = [l.get(\"href\") for l in soup.find_all('a')]\n",
    "        links = [l for l in links if l and 'all_comps/defense' in l]\n",
    "        time.sleep(1)\n",
    "        data = requests.get(f\"https://fbref.com{links[0]}\")\n",
    "        defension_actions = pd.read_html(data.text, match=\"Defensive Actions\")[0]\n",
    "        defension_actions.columns = defension_actions.columns.droplevel()\n",
    "        try:\n",
    "            defension_actions.columns.values[10] = \"Tkl_Defensive\"\n",
    "            defension_actions.columns.values[11] = \"TklW_Defensive\"\n",
    "            defension_actions.columns.values[19] = \"Blocks_Defensive\"\n",
    "            team_data = team_data.merge(defension_actions[[\"Date\", \"Tkl_Defensive\", \"TklW_Defensive\", \"Blocks_Defensive\"]], on=\"Date\")\n",
    "        except ValueError:\n",
    "            continue\n",
    "\n",
    "        soup = BeautifulSoup(data.text)\n",
    "        links = [l.get(\"href\") for l in soup.find_all('a')]\n",
    "        links = [l for l in links if l and 'all_comps/possession' in l]\n",
    "        time.sleep(1)\n",
    "        data = requests.get(f\"https://fbref.com{links[0]}\")\n",
    "        possession = pd.read_html(data.text, match=\"Possession\")[0]\n",
    "        possession.columns = possession.columns.droplevel()\n",
    "        try:\n",
    "            possession.columns.values[18] = \"Dribbles_Succ\"\n",
    "            possession.columns.values[19] = \"Dribles_Att\"\n",
    "            team_data = team_data.merge(possession[[\"Date\", \"Touches\", \"Def Pen\", \"Def 3rd\", \"Mid 3rd\", \"Att 3rd\", \"Dribbles_Succ\", \"Dribles_Att\", \"Rec\"]], on=\"Date\")\n",
    "        except ValueError:\n",
    "            continue\n",
    "\n",
    "        soup = BeautifulSoup(data.text)\n",
    "        links = [l.get(\"href\") for l in soup.find_all('a')]\n",
    "        links = [l for l in links if l and 'all_comps/misc' in l]        \n",
    "        time.sleep(1)\n",
    "        data = requests.get(f\"https://fbref.com{links[0]}\")\n",
    "        msc = pd.read_html(data.text, match=\"Miscellaneous Stats\")[0]\n",
    "        msc.columns = msc.columns.droplevel()\n",
    "        try:\n",
    "            team_data = team_data.merge(msc[[\"Date\", \"CrdY\", \"CrdR\", \"2CrdY\", \"Fls\", \"Fld\", \"Off\", \"PKwon\", \"PKcon\", \"OG\"]], on=\"Date\")\n",
    "        except ValueError:\n",
    "            continue\n",
    "\n",
    "\n",
    "        team_data = team_data[team_data[\"Comp\"] == \"Premier League\"]\n",
    "        team_data[\"Season\"] = year\n",
    "        team_data[\"Team\"] = team_name\n",
    "        all_matches.append(team_data)\n",
    "        time.sleep(1)"
   ]
  },
  {
   "cell_type": "code",
   "execution_count": null,
   "metadata": {},
   "outputs": [
    {
     "data": {
      "text/plain": [
       "20"
      ]
     },
     "execution_count": 11,
     "metadata": {},
     "output_type": "execute_result"
    }
   ],
   "source": [
    "len(all_matches)"
   ]
  },
  {
   "cell_type": "code",
   "execution_count": null,
   "metadata": {},
   "outputs": [],
   "source": [
    "match_df = pd.concat(all_matches)"
   ]
  },
  {
   "cell_type": "code",
   "execution_count": null,
   "metadata": {},
   "outputs": [],
   "source": [
    "match_df.to_csv('EPL_2017-2022.csv', mode='a', index=False, header=True)"
   ]
  },
  {
   "cell_type": "code",
   "execution_count": null,
   "metadata": {},
   "outputs": [],
   "source": []
  }
 ],
 "metadata": {
  "kernelspec": {
   "display_name": "Python 3.10.5 64-bit",
   "language": "python",
   "name": "python3"
  },
  "language_info": {
   "codemirror_mode": {
    "name": "ipython",
    "version": 3
   },
   "file_extension": ".py",
   "mimetype": "text/x-python",
   "name": "python",
   "nbconvert_exporter": "python",
   "pygments_lexer": "ipython3",
   "version": "3.10.5"
  },
  "orig_nbformat": 4,
  "vscode": {
   "interpreter": {
    "hash": "a8e24bf02aec0f83b9199d927792c84edea2fa8c2ebcffc93c1d04a213e6b55f"
   }
  }
 },
 "nbformat": 4,
 "nbformat_minor": 2
}
